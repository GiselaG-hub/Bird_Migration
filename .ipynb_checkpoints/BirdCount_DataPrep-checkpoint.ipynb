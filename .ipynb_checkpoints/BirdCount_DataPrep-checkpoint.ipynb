{
 "cells": [
  {
   "cell_type": "code",
   "execution_count": 1,
   "metadata": {},
   "outputs": [],
   "source": [
    "import pandas as pd\n",
    "import csv"
   ]
  },
  {
   "cell_type": "code",
   "execution_count": 2,
   "metadata": {},
   "outputs": [
    {
     "data": {
      "text/html": [
       "<div>\n",
       "<style scoped>\n",
       "    .dataframe tbody tr th:only-of-type {\n",
       "        vertical-align: middle;\n",
       "    }\n",
       "\n",
       "    .dataframe tbody tr th {\n",
       "        vertical-align: top;\n",
       "    }\n",
       "\n",
       "    .dataframe thead th {\n",
       "        text-align: right;\n",
       "    }\n",
       "</style>\n",
       "<table border=\"1\" class=\"dataframe\">\n",
       "  <thead>\n",
       "    <tr style=\"text-align: right;\">\n",
       "      <th></th>\n",
       "      <th>YEAR</th>\n",
       "      <th>AREA</th>\n",
       "      <th>REGION</th>\n",
       "      <th>SPECIES</th>\n",
       "      <th>SPECIESNAME</th>\n",
       "      <th>COUNT</th>\n",
       "    </tr>\n",
       "  </thead>\n",
       "  <tbody>\n",
       "    <tr>\n",
       "      <th>0</th>\n",
       "      <td>2003</td>\n",
       "      <td>18</td>\n",
       "      <td>nh</td>\n",
       "      <td>buff</td>\n",
       "      <td>Bufflehead</td>\n",
       "      <td>20</td>\n",
       "    </tr>\n",
       "    <tr>\n",
       "      <th>1</th>\n",
       "      <td>2003</td>\n",
       "      <td>18</td>\n",
       "      <td>nh</td>\n",
       "      <td>scot</td>\n",
       "      <td>Generic Scoter</td>\n",
       "      <td>20</td>\n",
       "    </tr>\n",
       "    <tr>\n",
       "      <th>2</th>\n",
       "      <td>2003</td>\n",
       "      <td>18</td>\n",
       "      <td>nh</td>\n",
       "      <td>scot</td>\n",
       "      <td>Generic Scoter</td>\n",
       "      <td>100</td>\n",
       "    </tr>\n",
       "    <tr>\n",
       "      <th>3</th>\n",
       "      <td>2003</td>\n",
       "      <td>19</td>\n",
       "      <td>nh</td>\n",
       "      <td>amwi</td>\n",
       "      <td>American Wigeon</td>\n",
       "      <td>100</td>\n",
       "    </tr>\n",
       "    <tr>\n",
       "      <th>4</th>\n",
       "      <td>2003</td>\n",
       "      <td>19</td>\n",
       "      <td>nh</td>\n",
       "      <td>scau</td>\n",
       "      <td>Generic Scaup</td>\n",
       "      <td>300</td>\n",
       "    </tr>\n",
       "  </tbody>\n",
       "</table>\n",
       "</div>"
      ],
      "text/plain": [
       "   YEAR AREA REGION SPECIES      SPECIESNAME  COUNT\n",
       "0  2003   18     nh    buff       Bufflehead     20\n",
       "1  2003   18     nh    scot   Generic Scoter     20\n",
       "2  2003   18     nh    scot   Generic Scoter    100\n",
       "3  2003   19     nh    amwi  American Wigeon    100\n",
       "4  2003   19     nh    scau    Generic Scaup    300"
      ]
     },
     "execution_count": 2,
     "metadata": {},
     "output_type": "execute_result"
    }
   ],
   "source": [
    "# The path to our CSV file\n",
    "data = r\"Bird_count.csv\"\n",
    "\n",
    "# Read our Bird_count data into pandas\n",
    "bird_count_df = pd.read_csv(data)\n",
    "bird_count_df.head()"
   ]
  },
  {
   "cell_type": "code",
   "execution_count": 20,
   "metadata": {},
   "outputs": [
    {
     "data": {
      "text/html": [
       "<div>\n",
       "<style scoped>\n",
       "    .dataframe tbody tr th:only-of-type {\n",
       "        vertical-align: middle;\n",
       "    }\n",
       "\n",
       "    .dataframe tbody tr th {\n",
       "        vertical-align: top;\n",
       "    }\n",
       "\n",
       "    .dataframe thead th {\n",
       "        text-align: right;\n",
       "    }\n",
       "</style>\n",
       "<table border=\"1\" class=\"dataframe\">\n",
       "  <thead>\n",
       "    <tr style=\"text-align: right;\">\n",
       "      <th></th>\n",
       "      <th>YEAR</th>\n",
       "      <th>AREA</th>\n",
       "      <th>REGION</th>\n",
       "      <th>SPECIES</th>\n",
       "      <th>SPECIESNAME</th>\n",
       "      <th>COUNT</th>\n",
       "    </tr>\n",
       "  </thead>\n",
       "  <tbody>\n",
       "    <tr>\n",
       "      <th>3</th>\n",
       "      <td>2003</td>\n",
       "      <td>19</td>\n",
       "      <td>nh</td>\n",
       "      <td>amwi</td>\n",
       "      <td>American Wigeon</td>\n",
       "      <td>100</td>\n",
       "    </tr>\n",
       "    <tr>\n",
       "      <th>4</th>\n",
       "      <td>2003</td>\n",
       "      <td>19</td>\n",
       "      <td>nh</td>\n",
       "      <td>scau</td>\n",
       "      <td>Generic Scaup</td>\n",
       "      <td>300</td>\n",
       "    </tr>\n",
       "    <tr>\n",
       "      <th>8</th>\n",
       "      <td>2003</td>\n",
       "      <td>19</td>\n",
       "      <td>nh</td>\n",
       "      <td>scau</td>\n",
       "      <td>Generic Scaup</td>\n",
       "      <td>300</td>\n",
       "    </tr>\n",
       "    <tr>\n",
       "      <th>10</th>\n",
       "      <td>2003</td>\n",
       "      <td>19</td>\n",
       "      <td>nh</td>\n",
       "      <td>scau</td>\n",
       "      <td>Generic Scaup</td>\n",
       "      <td>50</td>\n",
       "    </tr>\n",
       "    <tr>\n",
       "      <th>12</th>\n",
       "      <td>2003</td>\n",
       "      <td>19</td>\n",
       "      <td>nh</td>\n",
       "      <td>scau</td>\n",
       "      <td>Generic Scaup</td>\n",
       "      <td>500</td>\n",
       "    </tr>\n",
       "    <tr>\n",
       "      <th>...</th>\n",
       "      <td>...</td>\n",
       "      <td>...</td>\n",
       "      <td>...</td>\n",
       "      <td>...</td>\n",
       "      <td>...</td>\n",
       "      <td>...</td>\n",
       "    </tr>\n",
       "    <tr>\n",
       "      <th>67052</th>\n",
       "      <td>2006</td>\n",
       "      <td>54</td>\n",
       "      <td>lw</td>\n",
       "      <td>scau</td>\n",
       "      <td>Generic Scaup</td>\n",
       "      <td>80</td>\n",
       "    </tr>\n",
       "    <tr>\n",
       "      <th>67053</th>\n",
       "      <td>2006</td>\n",
       "      <td>54</td>\n",
       "      <td>lw</td>\n",
       "      <td>scau</td>\n",
       "      <td>Generic Scaup</td>\n",
       "      <td>40</td>\n",
       "    </tr>\n",
       "    <tr>\n",
       "      <th>67054</th>\n",
       "      <td>2006</td>\n",
       "      <td>61</td>\n",
       "      <td>lw</td>\n",
       "      <td>amwi</td>\n",
       "      <td>American Wigeon</td>\n",
       "      <td>200</td>\n",
       "    </tr>\n",
       "    <tr>\n",
       "      <th>67055</th>\n",
       "      <td>2006</td>\n",
       "      <td>61</td>\n",
       "      <td>lw</td>\n",
       "      <td>nsho</td>\n",
       "      <td>Northern Shoveler</td>\n",
       "      <td>10</td>\n",
       "    </tr>\n",
       "    <tr>\n",
       "      <th>67056</th>\n",
       "      <td>2006</td>\n",
       "      <td>54</td>\n",
       "      <td>lw</td>\n",
       "      <td>scau</td>\n",
       "      <td>Generic Scaup</td>\n",
       "      <td>75</td>\n",
       "    </tr>\n",
       "  </tbody>\n",
       "</table>\n",
       "<p>26723 rows × 6 columns</p>\n",
       "</div>"
      ],
      "text/plain": [
       "       YEAR AREA REGION SPECIES        SPECIESNAME  COUNT\n",
       "3      2003   19     nh    amwi    American Wigeon    100\n",
       "4      2003   19     nh    scau      Generic Scaup    300\n",
       "8      2003   19     nh    scau      Generic Scaup    300\n",
       "10     2003   19     nh    scau      Generic Scaup     50\n",
       "12     2003   19     nh    scau      Generic Scaup    500\n",
       "...     ...  ...    ...     ...                ...    ...\n",
       "67052  2006   54     lw    scau      Generic Scaup     80\n",
       "67053  2006   54     lw    scau      Generic Scaup     40\n",
       "67054  2006   61     lw    amwi    American Wigeon    200\n",
       "67055  2006   61     lw    nsho  Northern Shoveler     10\n",
       "67056  2006   54     lw    scau      Generic Scaup     75\n",
       "\n",
       "[26723 rows x 6 columns]"
      ]
     },
     "execution_count": 20,
     "metadata": {},
     "output_type": "execute_result"
    }
   ],
   "source": [
    "#  Create a new df for birdcount  with only the interested species\n",
    "\n",
    "# creating filters of bool series from isin() \n",
    "filter1 = bird_count_df[\"SPECIESNAME\"].isin([\"American Coot\",\"Northern Pintail\",\"Northern Shoveler\",\"Generic Scaup\",\"Blue-winged or Cinnamon Teal\",\n",
    "\"American Green-winged Teal\",\"American Wigeon\",\"Generic Whisling-Duck\",\"Redhead\",\"Gadwall\"]) \n",
    "\n",
    "#filter2=bird_count_df[\"Team\"].isin([\"Engineering\", \"Distribution\", \"Finance\" ]) \n",
    "\n",
    "\n",
    "\n",
    "birdcount= bird_count_df[filter1]\n",
    "birdcount"
   ]
  },
  {
   "cell_type": "code",
   "execution_count": 19,
   "metadata": {},
   "outputs": [
    {
     "name": "stdout",
     "output_type": "stream",
     "text": [
      "<class 'pandas.core.series.Series'>\n"
     ]
    }
   ],
   "source": [
    "birdcount.dtypes\n",
    "print(type(filter1))"
   ]
  },
  {
   "cell_type": "code",
   "execution_count": 44,
   "metadata": {},
   "outputs": [
    {
     "name": "stdout",
     "output_type": "stream",
     "text": [
      "<class 'pandas.core.series.Series'>\n"
     ]
    },
    {
     "data": {
      "text/plain": [
       "COUNT    950\n",
       "Name: (American Coot, 1947, 65, ec), dtype: int64"
      ]
     },
     "metadata": {},
     "output_type": "display_data"
    },
    {
     "name": "stdout",
     "output_type": "stream",
     "text": [
      "csv created\n"
     ]
    }
   ],
   "source": [
    "#player_count = purchase_data.groupby([“SN”,“Gender”]).count()\n",
    "#player_count.index\n",
    "\n",
    "#birdcount1 = birdcount.groupby([\"SPECIESNAME\",\"YEAR\",\"AREA\",\"REGION\"]).count()\n",
    "#birdcount1[\"COUNT\"].sum()\n",
    "birdcount1 = birdcount.groupby([\"SPECIESNAME\",\"YEAR\",\"AREA\",\"REGION\"])\n",
    "birdcount2=birdcount1[\"COUNT\"].sum()\n",
    "birdcount2\n",
    "print(type(birdcount2))\n",
    "\n",
    "bc_df = birdcount2.to_frame()\n",
    "\n",
    "display(bc_df.iloc[3])\n",
    "\n",
    "bc_df.to_csv('birdcount_csv.csv')\n",
    "\n",
    "print(\"csv created\")\n"
   ]
  },
  {
   "cell_type": "code",
   "execution_count": null,
   "metadata": {},
   "outputs": [],
   "source": [
    "\n"
   ]
  },
  {
   "cell_type": "code",
   "execution_count": null,
   "metadata": {},
   "outputs": [],
   "source": []
  }
 ],
 "metadata": {
  "kernelspec": {
   "display_name": "Python 3",
   "language": "python",
   "name": "python3"
  },
  "language_info": {
   "codemirror_mode": {
    "name": "ipython",
    "version": 3
   },
   "file_extension": ".py",
   "mimetype": "text/x-python",
   "name": "python",
   "nbconvert_exporter": "python",
   "pygments_lexer": "ipython3",
   "version": "3.8.3"
  }
 },
 "nbformat": 4,
 "nbformat_minor": 4
}
